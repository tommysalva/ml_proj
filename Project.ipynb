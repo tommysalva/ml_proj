{
 "cells": [
  {
   "cell_type": "markdown",
   "id": "597bd206-bc73-4fe6-9a4d-42e9c4e391a1",
   "metadata": {},
   "source": [
    "# Project"
   ]
  },
  {
   "cell_type": "code",
   "execution_count": 89,
   "id": "35be8f8b-9e19-40e3-a80a-18e39f19a32b",
   "metadata": {},
   "outputs": [],
   "source": [
    "using CSV, DataFrames, Random, Gurobi, JuMP, Statistics, ScikitLearn"
   ]
  },
  {
   "cell_type": "markdown",
   "id": "1d34d3a3-3fab-4f82-89e2-dec0e7ac2497",
   "metadata": {},
   "source": [
    "### Data"
   ]
  },
  {
   "cell_type": "code",
   "execution_count": 90,
   "id": "c2830dff-1f4e-4fd2-8cc9-13cd0862eaa3",
   "metadata": {},
   "outputs": [],
   "source": [
    "data =  CSV.read(\"data.csv\", DataFrame);\n",
    "all_costs = CSV.read(\"LCOE_Australia.csv\", DataFrame);\n",
    "all_emissions = CSV.read(\"energy_emissions.csv\", DataFrame);"
   ]
  },
  {
   "cell_type": "code",
   "execution_count": 91,
   "id": "2dbc1c07-3d5b-4652-bee2-82e08ceacf04",
   "metadata": {
    "scrolled": true
   },
   "outputs": [
    {
     "data": {
      "text/html": [
       "<div><div style = \"float: left;\"><span>2106×14 DataFrame</span></div><div style = \"float: right;\"><span style = \"font-style: italic;\">2081 rows omitted</span></div><div style = \"clear: both;\"></div></div><div class = \"data-frame\" style = \"overflow-x: scroll;\"><table class = \"data-frame\" style = \"margin-bottom: 6px;\"><thead><tr class = \"header\"><th class = \"rowNumber\" style = \"font-weight: bold; text-align: right;\">Row</th><th style = \"text-align: left;\">date</th><th style = \"text-align: left;\">demand</th><th style = \"text-align: left;\">RRP</th><th style = \"text-align: left;\">demand_pos_RRP</th><th style = \"text-align: left;\">RRP_positive</th><th style = \"text-align: left;\">demand_neg_RRP</th><th style = \"text-align: left;\">RRP_negative</th><th style = \"text-align: left;\">frac_at_neg_RRP</th><th style = \"text-align: left;\">min_temperature</th><th style = \"text-align: left;\">max_temperature</th><th style = \"text-align: left;\">solar_exposure</th><th style = \"text-align: left;\">rainfall</th><th style = \"text-align: left;\">school_day</th><th style = \"text-align: left;\">holiday</th></tr><tr class = \"subheader headerLastRow\"><th class = \"rowNumber\" style = \"font-weight: bold; text-align: right;\"></th><th title = \"Dates.Date\" style = \"text-align: left;\">Date</th><th title = \"Float64\" style = \"text-align: left;\">Float64</th><th title = \"Float64\" style = \"text-align: left;\">Float64</th><th title = \"Float64\" style = \"text-align: left;\">Float64</th><th title = \"Float64\" style = \"text-align: left;\">Float64</th><th title = \"Float64\" style = \"text-align: left;\">Float64</th><th title = \"Float64\" style = \"text-align: left;\">Float64</th><th title = \"Float64\" style = \"text-align: left;\">Float64</th><th title = \"Float64\" style = \"text-align: left;\">Float64</th><th title = \"Float64\" style = \"text-align: left;\">Float64</th><th title = \"Union{Missing, Float64}\" style = \"text-align: left;\">Float64?</th><th title = \"Union{Missing, Float64}\" style = \"text-align: left;\">Float64?</th><th title = \"String1\" style = \"text-align: left;\">String1</th><th title = \"String1\" style = \"text-align: left;\">String1</th></tr></thead><tbody><tr><td class = \"rowNumber\" style = \"font-weight: bold; text-align: right;\">1</td><td style = \"text-align: left;\">2015-01-01</td><td style = \"text-align: right;\">99635.0</td><td style = \"text-align: right;\">25.6337</td><td style = \"text-align: right;\">97319.2</td><td style = \"text-align: right;\">26.416</td><td style = \"text-align: right;\">2315.79</td><td style = \"text-align: right;\">-7.24</td><td style = \"text-align: right;\">0.0208333</td><td style = \"text-align: right;\">13.3</td><td style = \"text-align: right;\">26.9</td><td style = \"text-align: right;\">23.6</td><td style = \"text-align: right;\">0.0</td><td style = \"text-align: left;\">N</td><td style = \"text-align: left;\">Y</td></tr><tr><td class = \"rowNumber\" style = \"font-weight: bold; text-align: right;\">2</td><td style = \"text-align: left;\">2015-01-02</td><td style = \"text-align: right;\">129606.0</td><td style = \"text-align: right;\">33.139</td><td style = \"text-align: right;\">121082.0</td><td style = \"text-align: right;\">38.8377</td><td style = \"text-align: right;\">8523.99</td><td style = \"text-align: right;\">-47.8098</td><td style = \"text-align: right;\">0.0625</td><td style = \"text-align: right;\">15.4</td><td style = \"text-align: right;\">38.8</td><td style = \"text-align: right;\">26.8</td><td style = \"text-align: right;\">0.0</td><td style = \"text-align: left;\">N</td><td style = \"text-align: left;\">N</td></tr><tr><td class = \"rowNumber\" style = \"font-weight: bold; text-align: right;\">3</td><td style = \"text-align: left;\">2015-01-03</td><td style = \"text-align: right;\">1.42301e5</td><td style = \"text-align: right;\">34.5649</td><td style = \"text-align: right;\">1.42301e5</td><td style = \"text-align: right;\">34.5649</td><td style = \"text-align: right;\">0.0</td><td style = \"text-align: right;\">0.0</td><td style = \"text-align: right;\">0.0</td><td style = \"text-align: right;\">20.0</td><td style = \"text-align: right;\">38.2</td><td style = \"text-align: right;\">26.5</td><td style = \"text-align: right;\">0.0</td><td style = \"text-align: left;\">N</td><td style = \"text-align: left;\">N</td></tr><tr><td class = \"rowNumber\" style = \"font-weight: bold; text-align: right;\">4</td><td style = \"text-align: left;\">2015-01-04</td><td style = \"text-align: right;\">1.04331e5</td><td style = \"text-align: right;\">25.0056</td><td style = \"text-align: right;\">1.04331e5</td><td style = \"text-align: right;\">25.0056</td><td style = \"text-align: right;\">0.0</td><td style = \"text-align: right;\">0.0</td><td style = \"text-align: right;\">0.0</td><td style = \"text-align: right;\">16.3</td><td style = \"text-align: right;\">21.4</td><td style = \"text-align: right;\">25.2</td><td style = \"text-align: right;\">4.2</td><td style = \"text-align: left;\">N</td><td style = \"text-align: left;\">N</td></tr><tr><td class = \"rowNumber\" style = \"font-weight: bold; text-align: right;\">5</td><td style = \"text-align: left;\">2015-01-05</td><td style = \"text-align: right;\">1.18132e5</td><td style = \"text-align: right;\">26.7242</td><td style = \"text-align: right;\">1.18132e5</td><td style = \"text-align: right;\">26.7242</td><td style = \"text-align: right;\">0.0</td><td style = \"text-align: right;\">0.0</td><td style = \"text-align: right;\">0.0</td><td style = \"text-align: right;\">15.0</td><td style = \"text-align: right;\">22.0</td><td style = \"text-align: right;\">30.7</td><td style = \"text-align: right;\">0.0</td><td style = \"text-align: left;\">N</td><td style = \"text-align: left;\">N</td></tr><tr><td class = \"rowNumber\" style = \"font-weight: bold; text-align: right;\">6</td><td style = \"text-align: left;\">2015-01-06</td><td style = \"text-align: right;\">1.30672e5</td><td style = \"text-align: right;\">31.2823</td><td style = \"text-align: right;\">1.30672e5</td><td style = \"text-align: right;\">31.2823</td><td style = \"text-align: right;\">0.0</td><td style = \"text-align: right;\">0.0</td><td style = \"text-align: right;\">0.0</td><td style = \"text-align: right;\">17.7</td><td style = \"text-align: right;\">26.0</td><td style = \"text-align: right;\">31.6</td><td style = \"text-align: right;\">0.0</td><td style = \"text-align: left;\">N</td><td style = \"text-align: left;\">N</td></tr><tr><td class = \"rowNumber\" style = \"font-weight: bold; text-align: right;\">7</td><td style = \"text-align: left;\">2015-01-07</td><td style = \"text-align: right;\">1.53515e5</td><td style = \"text-align: right;\">48.3123</td><td style = \"text-align: right;\">1.49499e5</td><td style = \"text-align: right;\">49.6397</td><td style = \"text-align: right;\">4016.11</td><td style = \"text-align: right;\">-1.1</td><td style = \"text-align: right;\">0.0208333</td><td style = \"text-align: right;\">18.9</td><td style = \"text-align: right;\">37.4</td><td style = \"text-align: right;\">20.7</td><td style = \"text-align: right;\">0.0</td><td style = \"text-align: left;\">N</td><td style = \"text-align: left;\">N</td></tr><tr><td class = \"rowNumber\" style = \"font-weight: bold; text-align: right;\">8</td><td style = \"text-align: left;\">2015-01-08</td><td style = \"text-align: right;\">1.42016e5</td><td style = \"text-align: right;\">49.1173</td><td style = \"text-align: right;\">1.42016e5</td><td style = \"text-align: right;\">49.1173</td><td style = \"text-align: right;\">0.0</td><td style = \"text-align: right;\">0.0</td><td style = \"text-align: right;\">0.0</td><td style = \"text-align: right;\">23.1</td><td style = \"text-align: right;\">28.2</td><td style = \"text-align: right;\">13.5</td><td style = \"text-align: right;\">19.4</td><td style = \"text-align: left;\">N</td><td style = \"text-align: left;\">N</td></tr><tr><td class = \"rowNumber\" style = \"font-weight: bold; text-align: right;\">9</td><td style = \"text-align: left;\">2015-01-09</td><td style = \"text-align: right;\">1.21801e5</td><td style = \"text-align: right;\">34.4907</td><td style = \"text-align: right;\">1.21801e5</td><td style = \"text-align: right;\">34.4907</td><td style = \"text-align: right;\">0.0</td><td style = \"text-align: right;\">0.0</td><td style = \"text-align: right;\">0.0</td><td style = \"text-align: right;\">16.5</td><td style = \"text-align: right;\">18.0</td><td style = \"text-align: right;\">3.1</td><td style = \"text-align: right;\">1.2</td><td style = \"text-align: left;\">N</td><td style = \"text-align: left;\">N</td></tr><tr><td class = \"rowNumber\" style = \"font-weight: bold; text-align: right;\">10</td><td style = \"text-align: left;\">2015-01-10</td><td style = \"text-align: right;\">1.03044e5</td><td style = \"text-align: right;\">20.2298</td><td style = \"text-align: right;\">1.03044e5</td><td style = \"text-align: right;\">20.2298</td><td style = \"text-align: right;\">0.0</td><td style = \"text-align: right;\">0.0</td><td style = \"text-align: right;\">0.0</td><td style = \"text-align: right;\">13.6</td><td style = \"text-align: right;\">21.7</td><td style = \"text-align: right;\">5.6</td><td style = \"text-align: right;\">5.2</td><td style = \"text-align: left;\">N</td><td style = \"text-align: left;\">N</td></tr><tr><td class = \"rowNumber\" style = \"font-weight: bold; text-align: right;\">11</td><td style = \"text-align: left;\">2015-01-11</td><td style = \"text-align: right;\">99865.8</td><td style = \"text-align: right;\">18.2348</td><td style = \"text-align: right;\">99865.8</td><td style = \"text-align: right;\">18.2348</td><td style = \"text-align: right;\">0.0</td><td style = \"text-align: right;\">0.0</td><td style = \"text-align: right;\">0.0</td><td style = \"text-align: right;\">15.6</td><td style = \"text-align: right;\">27.5</td><td style = \"text-align: right;\">29.9</td><td style = \"text-align: right;\">0.0</td><td style = \"text-align: left;\">N</td><td style = \"text-align: left;\">N</td></tr><tr><td class = \"rowNumber\" style = \"font-weight: bold; text-align: right;\">12</td><td style = \"text-align: left;\">2015-01-12</td><td style = \"text-align: right;\">1.31261e5</td><td style = \"text-align: right;\">33.6948</td><td style = \"text-align: right;\">1.31261e5</td><td style = \"text-align: right;\">33.6948</td><td style = \"text-align: right;\">0.0</td><td style = \"text-align: right;\">0.0</td><td style = \"text-align: right;\">0.0</td><td style = \"text-align: right;\">16.1</td><td style = \"text-align: right;\">31.3</td><td style = \"text-align: right;\">31.6</td><td style = \"text-align: right;\">0.0</td><td style = \"text-align: left;\">N</td><td style = \"text-align: left;\">N</td></tr><tr><td class = \"rowNumber\" style = \"font-weight: bold; text-align: right;\">13</td><td style = \"text-align: left;\">2015-01-13</td><td style = \"text-align: right;\">1.26527e5</td><td style = \"text-align: right;\">27.5379</td><td style = \"text-align: right;\">1.26527e5</td><td style = \"text-align: right;\">27.5379</td><td style = \"text-align: right;\">0.0</td><td style = \"text-align: right;\">0.0</td><td style = \"text-align: right;\">0.0</td><td style = \"text-align: right;\">20.2</td><td style = \"text-align: right;\">25.6</td><td style = \"text-align: right;\">4.2</td><td style = \"text-align: right;\">0.0</td><td style = \"text-align: left;\">N</td><td style = \"text-align: left;\">N</td></tr><tr><td style = \"text-align: right;\">&vellip;</td><td style = \"text-align: right;\">&vellip;</td><td style = \"text-align: right;\">&vellip;</td><td style = \"text-align: right;\">&vellip;</td><td style = \"text-align: right;\">&vellip;</td><td style = \"text-align: right;\">&vellip;</td><td style = \"text-align: right;\">&vellip;</td><td style = \"text-align: right;\">&vellip;</td><td style = \"text-align: right;\">&vellip;</td><td style = \"text-align: right;\">&vellip;</td><td style = \"text-align: right;\">&vellip;</td><td style = \"text-align: right;\">&vellip;</td><td style = \"text-align: right;\">&vellip;</td><td style = \"text-align: right;\">&vellip;</td><td style = \"text-align: right;\">&vellip;</td></tr><tr><td class = \"rowNumber\" style = \"font-weight: bold; text-align: right;\">2095</td><td style = \"text-align: left;\">2020-09-25</td><td style = \"text-align: right;\">1.26355e5</td><td style = \"text-align: right;\">53.4292</td><td style = \"text-align: right;\">1.26355e5</td><td style = \"text-align: right;\">53.4292</td><td style = \"text-align: right;\">0.0</td><td style = \"text-align: right;\">0.0</td><td style = \"text-align: right;\">0.0</td><td style = \"text-align: right;\">7.2</td><td style = \"text-align: right;\">11.9</td><td style = \"text-align: right;\">7.2</td><td style = \"text-align: right;\">3.2</td><td style = \"text-align: left;\">N</td><td style = \"text-align: left;\">N</td></tr><tr><td class = \"rowNumber\" style = \"font-weight: bold; text-align: right;\">2096</td><td style = \"text-align: left;\">2020-09-26</td><td style = \"text-align: right;\">106695.0</td><td style = \"text-align: right;\">33.4447</td><td style = \"text-align: right;\">99043.2</td><td style = \"text-align: right;\">37.4818</td><td style = \"text-align: right;\">7651.8</td><td style = \"text-align: right;\">-18.8106</td><td style = \"text-align: right;\">0.0833333</td><td style = \"text-align: right;\">6.2</td><td style = \"text-align: right;\">13.4</td><td style = \"text-align: right;\">15.0</td><td style = \"text-align: right;\">9.4</td><td style = \"text-align: left;\">N</td><td style = \"text-align: left;\">N</td></tr><tr><td class = \"rowNumber\" style = \"font-weight: bold; text-align: right;\">2097</td><td style = \"text-align: left;\">2020-09-27</td><td style = \"text-align: right;\">1.01703e5</td><td style = \"text-align: right;\">57.92</td><td style = \"text-align: right;\">1.01703e5</td><td style = \"text-align: right;\">57.92</td><td style = \"text-align: right;\">0.0</td><td style = \"text-align: right;\">0.0</td><td style = \"text-align: right;\">0.0</td><td style = \"text-align: right;\">8.8</td><td style = \"text-align: right;\">13.4</td><td style = \"text-align: right;\">20.9</td><td style = \"text-align: right;\">3.0</td><td style = \"text-align: left;\">N</td><td style = \"text-align: left;\">N</td></tr><tr><td class = \"rowNumber\" style = \"font-weight: bold; text-align: right;\">2098</td><td style = \"text-align: left;\">2020-09-28</td><td style = \"text-align: right;\">1.14651e5</td><td style = \"text-align: right;\">59.7461</td><td style = \"text-align: right;\">1.14651e5</td><td style = \"text-align: right;\">59.7461</td><td style = \"text-align: right;\">0.0</td><td style = \"text-align: right;\">0.0</td><td style = \"text-align: right;\">0.0</td><td style = \"text-align: right;\">6.5</td><td style = \"text-align: right;\">13.6</td><td style = \"text-align: right;\">18.3</td><td style = \"text-align: right;\">0.0</td><td style = \"text-align: left;\">N</td><td style = \"text-align: left;\">N</td></tr><tr><td class = \"rowNumber\" style = \"font-weight: bold; text-align: right;\">2099</td><td style = \"text-align: left;\">2020-09-29</td><td style = \"text-align: right;\">1.12076e5</td><td style = \"text-align: right;\">42.1202</td><td style = \"text-align: right;\">1.08164e5</td><td style = \"text-align: right;\">43.8591</td><td style = \"text-align: right;\">3912.1</td><td style = \"text-align: right;\">-5.9601</td><td style = \"text-align: right;\">0.0416667</td><td style = \"text-align: right;\">4.3</td><td style = \"text-align: right;\">21.0</td><td style = \"text-align: right;\">18.4</td><td style = \"text-align: right;\">0.0</td><td style = \"text-align: left;\">N</td><td style = \"text-align: left;\">N</td></tr><tr><td class = \"rowNumber\" style = \"font-weight: bold; text-align: right;\">2100</td><td style = \"text-align: left;\">2020-09-30</td><td style = \"text-align: right;\">1.1362e5</td><td style = \"text-align: right;\">38.0576</td><td style = \"text-align: right;\">1.11746e5</td><td style = \"text-align: right;\">38.8234</td><td style = \"text-align: right;\">1873.75</td><td style = \"text-align: right;\">-7.61</td><td style = \"text-align: right;\">0.0208333</td><td style = \"text-align: right;\">10.7</td><td style = \"text-align: right;\">19.4</td><td style = \"text-align: right;\">13.0</td><td style = \"text-align: right;\">0.6</td><td style = \"text-align: left;\">N</td><td style = \"text-align: left;\">N</td></tr><tr><td class = \"rowNumber\" style = \"font-weight: bold; text-align: right;\">2101</td><td style = \"text-align: left;\">2020-10-01</td><td style = \"text-align: right;\">1.06642e5</td><td style = \"text-align: right;\">34.6547</td><td style = \"text-align: right;\">95349.6</td><td style = \"text-align: right;\">41.6517</td><td style = \"text-align: right;\">11292.2</td><td style = \"text-align: right;\">-24.4269</td><td style = \"text-align: right;\">0.125</td><td style = \"text-align: right;\">9.4</td><td style = \"text-align: right;\">19.5</td><td style = \"text-align: right;\">21.2</td><td style = \"text-align: right;\">1.8</td><td style = \"text-align: left;\">N</td><td style = \"text-align: left;\">N</td></tr><tr><td class = \"rowNumber\" style = \"font-weight: bold; text-align: right;\">2102</td><td style = \"text-align: left;\">2020-10-02</td><td style = \"text-align: right;\">99585.8</td><td style = \"text-align: right;\">-6.07603</td><td style = \"text-align: right;\">41988.2</td><td style = \"text-align: right;\">26.9803</td><td style = \"text-align: right;\">57597.6</td><td style = \"text-align: right;\">-30.1738</td><td style = \"text-align: right;\">0.625</td><td style = \"text-align: right;\">12.8</td><td style = \"text-align: right;\">26.0</td><td style = \"text-align: right;\">22.0</td><td style = \"text-align: right;\">0.0</td><td style = \"text-align: left;\">N</td><td style = \"text-align: left;\">N</td></tr><tr><td class = \"rowNumber\" style = \"font-weight: bold; text-align: right;\">2103</td><td style = \"text-align: left;\">2020-10-03</td><td style = \"text-align: right;\">92277.0</td><td style = \"text-align: right;\">-1.98347</td><td style = \"text-align: right;\">44133.5</td><td style = \"text-align: right;\">32.4382</td><td style = \"text-align: right;\">48143.5</td><td style = \"text-align: right;\">-33.538</td><td style = \"text-align: right;\">0.583333</td><td style = \"text-align: right;\">17.4</td><td style = \"text-align: right;\">29.4</td><td style = \"text-align: right;\">19.8</td><td style = \"text-align: right;\">0.0</td><td style = \"text-align: left;\">N</td><td style = \"text-align: left;\">N</td></tr><tr><td class = \"rowNumber\" style = \"font-weight: bold; text-align: right;\">2104</td><td style = \"text-align: left;\">2020-10-04</td><td style = \"text-align: right;\">94081.6</td><td style = \"text-align: right;\">25.0086</td><td style = \"text-align: right;\">88581.0</td><td style = \"text-align: right;\">26.5717</td><td style = \"text-align: right;\">5500.57</td><td style = \"text-align: right;\">-0.163066</td><td style = \"text-align: right;\">0.0625</td><td style = \"text-align: right;\">13.5</td><td style = \"text-align: right;\">29.5</td><td style = \"text-align: right;\">8.4</td><td style = \"text-align: right;\">0.0</td><td style = \"text-align: left;\">N</td><td style = \"text-align: left;\">N</td></tr><tr><td class = \"rowNumber\" style = \"font-weight: bold; text-align: right;\">2105</td><td style = \"text-align: left;\">2020-10-05</td><td style = \"text-align: right;\">113610.0</td><td style = \"text-align: right;\">36.7647</td><td style = \"text-align: right;\">1.06587e5</td><td style = \"text-align: right;\">39.616</td><td style = \"text-align: right;\">7022.65</td><td style = \"text-align: right;\">-6.51155</td><td style = \"text-align: right;\">0.0833333</td><td style = \"text-align: right;\">9.1</td><td style = \"text-align: right;\">12.7</td><td style = \"text-align: right;\">7.3</td><td style = \"text-align: right;\">12.8</td><td style = \"text-align: left;\">N</td><td style = \"text-align: left;\">N</td></tr><tr><td class = \"rowNumber\" style = \"font-weight: bold; text-align: right;\">2106</td><td style = \"text-align: left;\">2020-10-06</td><td style = \"text-align: right;\">1.22608e5</td><td style = \"text-align: right;\">75.7711</td><td style = \"text-align: right;\">1.22608e5</td><td style = \"text-align: right;\">75.7711</td><td style = \"text-align: right;\">0.0</td><td style = \"text-align: right;\">0.0</td><td style = \"text-align: right;\">0.0</td><td style = \"text-align: right;\">8.9</td><td style = \"text-align: right;\">12.6</td><td style = \"text-align: right;\">5.8</td><td style = \"text-align: right;\">1.0</td><td style = \"text-align: left;\">N</td><td style = \"text-align: left;\">N</td></tr></tbody></table></div>"
      ],
      "text/latex": [
       "\\begin{tabular}{r|cccccccc}\n",
       "\t& date & demand & RRP & demand\\_pos\\_RRP & RRP\\_positive & demand\\_neg\\_RRP & RRP\\_negative & \\\\\n",
       "\t\\hline\n",
       "\t& Date & Float64 & Float64 & Float64 & Float64 & Float64 & Float64 & \\\\\n",
       "\t\\hline\n",
       "\t1 & 2015-01-01 & 99635.0 & 25.6337 & 97319.2 & 26.416 & 2315.79 & -7.24 & $\\dots$ \\\\\n",
       "\t2 & 2015-01-02 & 129606.0 & 33.139 & 121082.0 & 38.8377 & 8523.99 & -47.8098 & $\\dots$ \\\\\n",
       "\t3 & 2015-01-03 & 1.42301e5 & 34.5649 & 1.42301e5 & 34.5649 & 0.0 & 0.0 & $\\dots$ \\\\\n",
       "\t4 & 2015-01-04 & 1.04331e5 & 25.0056 & 1.04331e5 & 25.0056 & 0.0 & 0.0 & $\\dots$ \\\\\n",
       "\t5 & 2015-01-05 & 1.18132e5 & 26.7242 & 1.18132e5 & 26.7242 & 0.0 & 0.0 & $\\dots$ \\\\\n",
       "\t6 & 2015-01-06 & 1.30672e5 & 31.2823 & 1.30672e5 & 31.2823 & 0.0 & 0.0 & $\\dots$ \\\\\n",
       "\t7 & 2015-01-07 & 1.53515e5 & 48.3123 & 1.49499e5 & 49.6397 & 4016.11 & -1.1 & $\\dots$ \\\\\n",
       "\t8 & 2015-01-08 & 1.42016e5 & 49.1173 & 1.42016e5 & 49.1173 & 0.0 & 0.0 & $\\dots$ \\\\\n",
       "\t9 & 2015-01-09 & 1.21801e5 & 34.4907 & 1.21801e5 & 34.4907 & 0.0 & 0.0 & $\\dots$ \\\\\n",
       "\t10 & 2015-01-10 & 1.03044e5 & 20.2298 & 1.03044e5 & 20.2298 & 0.0 & 0.0 & $\\dots$ \\\\\n",
       "\t11 & 2015-01-11 & 99865.8 & 18.2348 & 99865.8 & 18.2348 & 0.0 & 0.0 & $\\dots$ \\\\\n",
       "\t12 & 2015-01-12 & 1.31261e5 & 33.6948 & 1.31261e5 & 33.6948 & 0.0 & 0.0 & $\\dots$ \\\\\n",
       "\t13 & 2015-01-13 & 1.26527e5 & 27.5379 & 1.26527e5 & 27.5379 & 0.0 & 0.0 & $\\dots$ \\\\\n",
       "\t14 & 2015-01-14 & 1.19742e5 & 29.0185 & 1.19742e5 & 29.0185 & 0.0 & 0.0 & $\\dots$ \\\\\n",
       "\t15 & 2015-01-15 & 1.18411e5 & 30.9365 & 1.18411e5 & 30.9365 & 0.0 & 0.0 & $\\dots$ \\\\\n",
       "\t16 & 2015-01-16 & 1.16691e5 & 23.0152 & 1.16691e5 & 23.0152 & 0.0 & 0.0 & $\\dots$ \\\\\n",
       "\t17 & 2015-01-17 & 99371.3 & 18.9949 & 99371.3 & 18.9949 & 0.0 & 0.0 & $\\dots$ \\\\\n",
       "\t18 & 2015-01-18 & 97728.8 & 17.0087 & 95474.0 & 20.9118 & 2254.78 & -148.26 & $\\dots$ \\\\\n",
       "\t19 & 2015-01-19 & 1.16883e5 & 26.9279 & 1.16883e5 & 26.9279 & 0.0 & 0.0 & $\\dots$ \\\\\n",
       "\t20 & 2015-01-20 & 1.28968e5 & 23.0781 & 1.28968e5 & 23.0781 & 0.0 & 0.0 & $\\dots$ \\\\\n",
       "\t21 & 2015-01-21 & 1.48703e5 & 34.4434 & 1.48703e5 & 34.4434 & 0.0 & 0.0 & $\\dots$ \\\\\n",
       "\t22 & 2015-01-22 & 1.53232e5 & 35.2308 & 1.53232e5 & 35.2308 & 0.0 & 0.0 & $\\dots$ \\\\\n",
       "\t23 & 2015-01-23 & 1.38095e5 & 40.6042 & 1.38095e5 & 40.6042 & 0.0 & 0.0 & $\\dots$ \\\\\n",
       "\t24 & 2015-01-24 & 1.16311e5 & 20.922 & 1.16311e5 & 20.922 & 0.0 & 0.0 & $\\dots$ \\\\\n",
       "\t25 & 2015-01-25 & 97959.5 & 16.5414 & 97959.5 & 16.5414 & 0.0 & 0.0 & $\\dots$ \\\\\n",
       "\t26 & 2015-01-26 & 1.03769e5 & 16.936 & 1.03769e5 & 16.936 & 0.0 & 0.0 & $\\dots$ \\\\\n",
       "\t27 & 2015-01-27 & 1.18393e5 & 21.2063 & 1.18393e5 & 21.2063 & 0.0 & 0.0 & $\\dots$ \\\\\n",
       "\t28 & 2015-01-28 & 1.16764e5 & 17.0238 & 1.16764e5 & 17.0238 & 0.0 & 0.0 & $\\dots$ \\\\\n",
       "\t29 & 2015-01-29 & 1.19314e5 & 19.6248 & 1.19314e5 & 19.6248 & 0.0 & 0.0 & $\\dots$ \\\\\n",
       "\t30 & 2015-01-30 & 1.21018e5 & 21.0294 & 1.21018e5 & 21.0294 & 0.0 & 0.0 & $\\dots$ \\\\\n",
       "\t$\\dots$ & $\\dots$ & $\\dots$ & $\\dots$ & $\\dots$ & $\\dots$ & $\\dots$ & $\\dots$ &  \\\\\n",
       "\\end{tabular}\n"
      ],
      "text/plain": [
       "\u001b[1m2106×14 DataFrame\n",
       "\u001b[1m  Row │\u001b[1m date       \u001b[1m demand         \u001b[1m RRP      \u001b[1m demand_pos_RRP \u001b[1m RRP_positive \u001b[1m de ⋯\n",
       "      │\u001b[90m Date       \u001b[90m Float64        \u001b[90m Float64  \u001b[90m Float64        \u001b[90m Float64      \u001b[90m Fl ⋯\n",
       "──────┼─────────────────────────────────────────────────────────────────────────\n",
       "    1 │ 2015-01-01   99635.0        25.6337    97319.2             26.416      ⋯\n",
       "    2 │ 2015-01-02  129606.0        33.139    121082.0             38.8377\n",
       "    3 │ 2015-01-03       1.42301e5  34.5649        1.42301e5       34.5649\n",
       "    4 │ 2015-01-04       1.04331e5  25.0056        1.04331e5       25.0056\n",
       "    5 │ 2015-01-05       1.18132e5  26.7242        1.18132e5       26.7242     ⋯\n",
       "    6 │ 2015-01-06       1.30672e5  31.2823        1.30672e5       31.2823\n",
       "    7 │ 2015-01-07       1.53515e5  48.3123        1.49499e5       49.6397\n",
       "    8 │ 2015-01-08       1.42016e5  49.1173        1.42016e5       49.1173\n",
       "    9 │ 2015-01-09       1.21801e5  34.4907        1.21801e5       34.4907     ⋯\n",
       "   10 │ 2015-01-10       1.03044e5  20.2298        1.03044e5       20.2298\n",
       "   11 │ 2015-01-11   99865.8        18.2348    99865.8             18.2348\n",
       "  ⋮   │     ⋮             ⋮            ⋮            ⋮              ⋮           ⋱\n",
       " 2097 │ 2020-09-27       1.01703e5  57.92          1.01703e5       57.92\n",
       " 2098 │ 2020-09-28       1.14651e5  59.7461        1.14651e5       59.7461     ⋯\n",
       " 2099 │ 2020-09-29       1.12076e5  42.1202        1.08164e5       43.8591\n",
       " 2100 │ 2020-09-30       1.1362e5   38.0576        1.11746e5       38.8234\n",
       " 2101 │ 2020-10-01       1.06642e5  34.6547    95349.6             41.6517\n",
       " 2102 │ 2020-10-02   99585.8        -6.07603   41988.2             26.9803     ⋯\n",
       " 2103 │ 2020-10-03   92277.0        -1.98347   44133.5             32.4382\n",
       " 2104 │ 2020-10-04   94081.6        25.0086    88581.0             26.5717\n",
       " 2105 │ 2020-10-05  113610.0        36.7647        1.06587e5       39.616\n",
       " 2106 │ 2020-10-06       1.22608e5  75.7711        1.22608e5       75.7711     ⋯\n",
       "\u001b[36m                                                 9 columns and 2085 rows omitted"
      ]
     },
     "execution_count": 91,
     "metadata": {},
     "output_type": "execute_result"
    }
   ],
   "source": [
    "data"
   ]
  },
  {
   "cell_type": "code",
   "execution_count": 92,
   "id": "4d1750f8-b611-451f-880a-28feebcaf426",
   "metadata": {},
   "outputs": [
    {
     "data": {
      "text/html": [
       "<div><div style = \"float: left;\"><span>5×2 DataFrame</span></div><div style = \"clear: both;\"></div></div><div class = \"data-frame\" style = \"overflow-x: scroll;\"><table class = \"data-frame\" style = \"margin-bottom: 6px;\"><thead><tr class = \"header\"><th class = \"rowNumber\" style = \"font-weight: bold; text-align: right;\">Row</th><th style = \"text-align: left;\">Plant category</th><th style = \"text-align: left;\">Average_LCOE</th></tr><tr class = \"subheader headerLastRow\"><th class = \"rowNumber\" style = \"font-weight: bold; text-align: right;\"></th><th title = \"String7\" style = \"text-align: left;\">String7</th><th title = \"Float64\" style = \"text-align: left;\">Float64</th></tr></thead><tbody><tr><td class = \"rowNumber\" style = \"font-weight: bold; text-align: right;\">1</td><td style = \"text-align: left;\">Solar</td><td style = \"text-align: right;\">84.1</td></tr><tr><td class = \"rowNumber\" style = \"font-weight: bold; text-align: right;\">2</td><td style = \"text-align: left;\">Wind</td><td style = \"text-align: right;\">64.18</td></tr><tr><td class = \"rowNumber\" style = \"font-weight: bold; text-align: right;\">3</td><td style = \"text-align: left;\">Gas</td><td style = \"text-align: right;\">111.957</td></tr><tr><td class = \"rowNumber\" style = \"font-weight: bold; text-align: right;\">4</td><td style = \"text-align: left;\">Coal</td><td style = \"text-align: right;\">101.88</td></tr><tr><td class = \"rowNumber\" style = \"font-weight: bold; text-align: right;\">5</td><td style = \"text-align: left;\">Lignite</td><td style = \"text-align: right;\">104.425</td></tr></tbody></table></div>"
      ],
      "text/latex": [
       "\\begin{tabular}{r|cc}\n",
       "\t& Plant category & Average\\_LCOE\\\\\n",
       "\t\\hline\n",
       "\t& String7 & Float64\\\\\n",
       "\t\\hline\n",
       "\t1 & Solar & 84.1 \\\\\n",
       "\t2 & Wind & 64.18 \\\\\n",
       "\t3 & Gas & 111.957 \\\\\n",
       "\t4 & Coal & 101.88 \\\\\n",
       "\t5 & Lignite & 104.425 \\\\\n",
       "\\end{tabular}\n"
      ],
      "text/plain": [
       "\u001b[1m5×2 DataFrame\n",
       "\u001b[1m Row │\u001b[1m Plant category \u001b[1m Average_LCOE\n",
       "     │\u001b[90m String7        \u001b[90m Float64\n",
       "─────┼──────────────────────────────\n",
       "   1 │ Solar                 84.1\n",
       "   2 │ Wind                  64.18\n",
       "   3 │ Gas                  111.957\n",
       "   4 │ Coal                 101.88\n",
       "   5 │ Lignite              104.425"
      ]
     },
     "execution_count": 92,
     "metadata": {},
     "output_type": "execute_result"
    }
   ],
   "source": [
    "# Grouping by 'Plant category' and calculating the mean of 'LCOE (USD/MWh)'\n",
    "costs = combine(groupby(all_costs, \"Plant category\"), \"LCOE (USD/MWh)\" => mean)\n",
    "\n",
    "# Renaming the aggregated column for clarity\n",
    "rename!(costs, \"LCOE (USD/MWh)_mean\" => :Average_LCOE)"
   ]
  },
  {
   "cell_type": "code",
   "execution_count": 72,
   "id": "32728272-23c4-4f2f-97bc-6c9f562e4021",
   "metadata": {},
   "outputs": [],
   "source": [
    "emissions = [0.86, 0.86, 2.38, 2.3, 0.97];\n",
    "cost = costs[:, :Average_LCOE];\n",
    "n_energies = 1:5;"
   ]
  },
  {
   "cell_type": "code",
   "execution_count": 69,
   "id": "04a092a3-1c51-4da5-a1c8-4b253c54005a",
   "metadata": {},
   "outputs": [
    {
     "data": {
      "text/html": [
       "<div><div style = \"float: left;\"><span>4×9 DataFrame</span></div><div style = \"clear: both;\"></div></div><div class = \"data-frame\" style = \"overflow-x: scroll;\"><table class = \"data-frame\" style = \"margin-bottom: 6px;\"><thead><tr class = \"header\"><th class = \"rowNumber\" style = \"font-weight: bold; text-align: right;\">Row</th><th style = \"text-align: left;\">date</th><th style = \"text-align: left;\">demand</th><th style = \"text-align: left;\">RRP</th><th style = \"text-align: left;\">min_temperature</th><th style = \"text-align: left;\">max_temperature</th><th style = \"text-align: left;\">solar_exposure</th><th style = \"text-align: left;\">rainfall</th><th style = \"text-align: left;\">school_day</th><th style = \"text-align: left;\">holiday</th></tr><tr class = \"subheader headerLastRow\"><th class = \"rowNumber\" style = \"font-weight: bold; text-align: right;\"></th><th title = \"Dates.Date\" style = \"text-align: left;\">Date</th><th title = \"Float64\" style = \"text-align: left;\">Float64</th><th title = \"Float64\" style = \"text-align: left;\">Float64</th><th title = \"Float64\" style = \"text-align: left;\">Float64</th><th title = \"Float64\" style = \"text-align: left;\">Float64</th><th title = \"Float64\" style = \"text-align: left;\">Float64</th><th title = \"Float64\" style = \"text-align: left;\">Float64</th><th title = \"Float64\" style = \"text-align: left;\">Float64</th><th title = \"Float64\" style = \"text-align: left;\">Float64</th></tr></thead><tbody><tr><td class = \"rowNumber\" style = \"font-weight: bold; text-align: right;\">1</td><td style = \"text-align: left;\">2015-01-01</td><td style = \"text-align: right;\">99635.0</td><td style = \"text-align: right;\">25.6337</td><td style = \"text-align: right;\">13.3</td><td style = \"text-align: right;\">26.9</td><td style = \"text-align: right;\">23.6</td><td style = \"text-align: right;\">0.0</td><td style = \"text-align: right;\">0.0</td><td style = \"text-align: right;\">1.0</td></tr><tr><td class = \"rowNumber\" style = \"font-weight: bold; text-align: right;\">2</td><td style = \"text-align: left;\">2015-01-02</td><td style = \"text-align: right;\">129606.0</td><td style = \"text-align: right;\">33.139</td><td style = \"text-align: right;\">15.4</td><td style = \"text-align: right;\">38.8</td><td style = \"text-align: right;\">26.8</td><td style = \"text-align: right;\">0.0</td><td style = \"text-align: right;\">0.0</td><td style = \"text-align: right;\">0.0</td></tr><tr><td class = \"rowNumber\" style = \"font-weight: bold; text-align: right;\">3</td><td style = \"text-align: left;\">2015-01-03</td><td style = \"text-align: right;\">1.42301e5</td><td style = \"text-align: right;\">34.5649</td><td style = \"text-align: right;\">20.0</td><td style = \"text-align: right;\">38.2</td><td style = \"text-align: right;\">26.5</td><td style = \"text-align: right;\">0.0</td><td style = \"text-align: right;\">0.0</td><td style = \"text-align: right;\">0.0</td></tr><tr><td class = \"rowNumber\" style = \"font-weight: bold; text-align: right;\">4</td><td style = \"text-align: left;\">2015-01-04</td><td style = \"text-align: right;\">1.04331e5</td><td style = \"text-align: right;\">25.0056</td><td style = \"text-align: right;\">16.3</td><td style = \"text-align: right;\">21.4</td><td style = \"text-align: right;\">25.2</td><td style = \"text-align: right;\">4.2</td><td style = \"text-align: right;\">0.0</td><td style = \"text-align: right;\">0.0</td></tr></tbody></table></div>"
      ],
      "text/latex": [
       "\\begin{tabular}{r|ccccccc}\n",
       "\t& date & demand & RRP & min\\_temperature & max\\_temperature & solar\\_exposure & \\\\\n",
       "\t\\hline\n",
       "\t& Date & Float64 & Float64 & Float64 & Float64 & Float64 & \\\\\n",
       "\t\\hline\n",
       "\t1 & 2015-01-01 & 99635.0 & 25.6337 & 13.3 & 26.9 & 23.6 & $\\dots$ \\\\\n",
       "\t2 & 2015-01-02 & 129606.0 & 33.139 & 15.4 & 38.8 & 26.8 & $\\dots$ \\\\\n",
       "\t3 & 2015-01-03 & 1.42301e5 & 34.5649 & 20.0 & 38.2 & 26.5 & $\\dots$ \\\\\n",
       "\t4 & 2015-01-04 & 1.04331e5 & 25.0056 & 16.3 & 21.4 & 25.2 & $\\dots$ \\\\\n",
       "\\end{tabular}\n"
      ],
      "text/plain": [
       "\u001b[1m4×9 DataFrame\n",
       "\u001b[1m Row │\u001b[1m date       \u001b[1m demand         \u001b[1m RRP     \u001b[1m min_temperature \u001b[1m max_temperature \u001b[1m  ⋯\n",
       "     │\u001b[90m Date       \u001b[90m Float64        \u001b[90m Float64 \u001b[90m Float64         \u001b[90m Float64         \u001b[90m  ⋯\n",
       "─────┼──────────────────────────────────────────────────────────────────────────\n",
       "   1 │ 2015-01-01   99635.0        25.6337             13.3             26.9   ⋯\n",
       "   2 │ 2015-01-02  129606.0        33.139              15.4             38.8\n",
       "   3 │ 2015-01-03       1.42301e5  34.5649             20.0             38.2\n",
       "   4 │ 2015-01-04       1.04331e5  25.0056             16.3             21.4\n",
       "\u001b[36m                                                               4 columns omitted"
      ]
     },
     "execution_count": 69,
     "metadata": {},
     "output_type": "execute_result"
    }
   ],
   "source": [
    "# Note: RRP = recommended retail price\n",
    "\n",
    "# Drop useless columns\n",
    "select!(data, Not([:demand_pos_RRP, :RRP_positive, :demand_neg_RRP, :RRP_negative, :frac_at_neg_RRP]));\n",
    "\n",
    "# Transform Yes / No data into binary \n",
    "data.holiday .= replace.(data.holiday, \"Y\" => 1, \"N\" => 0);\n",
    "data.school_day .= replace.(data.school_day, \"Y\" => 1, \"N\" => 0);\n",
    "data[!,:holiday] = [parse(Float64, x) for x in data[!,:holiday]];\n",
    "data[!,:school_day] = [parse(Float64, x) for x in data[!,:school_day]];\n",
    "\n",
    "# Drop missing values\n",
    "data = dropmissing(data);\n",
    "\n",
    "first(data, 4)"
   ]
  },
  {
   "cell_type": "code",
   "execution_count": 70,
   "id": "c1dd2a0f-ce30-4ce2-975e-cd436f69e964",
   "metadata": {},
   "outputs": [],
   "source": [
    "# Create X, y\n",
    "\n",
    "X_train = data[1:size(data,1)-36,:]; # until 2020-09\n",
    "select!(X_train, Not([:demand, :date]));\n",
    "y_train = data[1:size(data,1)-36,:demand]; # 2070 rows\n",
    "\n",
    "X_test = data[size(data,1)-35:size(data,1),:]; # 2020-09\n",
    "select!(X_test, Not([:demand, :date]));\n",
    "y_test = data[size(data,1)-35:size(data,1),:demand]; # 36 rows"
   ]
  },
  {
   "cell_type": "markdown",
   "id": "8d5ec65d-a018-4434-8410-447156521544",
   "metadata": {},
   "source": [
    "### Model"
   ]
  },
  {
   "cell_type": "code",
   "execution_count": 34,
   "id": "0f939a87-2b84-4e61-93e7-862cdd72fb08",
   "metadata": {},
   "outputs": [
    {
     "data": {
      "text/plain": [
       "Fitted RandomForestRegressor"
      ]
     },
     "execution_count": 34,
     "metadata": {},
     "output_type": "execute_result"
    }
   ],
   "source": [
    "# Train Random Forest using IAI using the training set\n",
    "rf = IAI.RandomForestRegressor(random_seed=1)\n",
    "grid = IAI.GridSearch(rf, max_depth=1:10, num_trees=[5,15,25,30,50,100,150], criterion=[:mse])\n",
    "IAI.fit!(grid, X_train, y_train, validation_criterion = :mse)\n",
    "rf = IAI.get_learner(grid)"
   ]
  },
  {
   "cell_type": "code",
   "execution_count": 36,
   "id": "c4a2188f-2100-4f02-98fa-1acd4b35c811",
   "metadata": {},
   "outputs": [],
   "source": [
    "# Get predictions on the test set\n",
    "rf_pred_test = IAI.predict(rf, X_test);"
   ]
  },
  {
   "cell_type": "code",
   "execution_count": 87,
   "id": "7f7c9b66-69fa-481c-86c0-ec8bb6ef030b",
   "metadata": {
    "scrolled": true
   },
   "outputs": [
    {
     "name": "stdout",
     "output_type": "stream",
     "text": [
      "Set parameter Username\n",
      "Academic license - for non-commercial use only - expires 2024-08-22\n"
     ]
    },
    {
     "data": {
      "text/plain": [
       "36-element Vector{ConstraintRef{Model, MathOptInterface.ConstraintIndex{MathOptInterface.ScalarAffineFunction{Float64}, MathOptInterface.LessThan{Float64}}, ScalarShape}}:\n",
       " emissions_constraint[1] : 0.86 z1[1,1] + 0.86 z1[1,2] + 2.38 z1[1,3] + 2.3 z1[1,4] + 0.97 z1[1,5] ≤ 100000\n",
       " emissions_constraint[2] : 0.86 z1[2,1] + 0.86 z1[2,2] + 2.38 z1[2,3] + 2.3 z1[2,4] + 0.97 z1[2,5] ≤ 100000\n",
       " emissions_constraint[3] : 0.86 z1[3,1] + 0.86 z1[3,2] + 2.38 z1[3,3] + 2.3 z1[3,4] + 0.97 z1[3,5] ≤ 100000\n",
       " emissions_constraint[4] : 0.86 z1[4,1] + 0.86 z1[4,2] + 2.38 z1[4,3] + 2.3 z1[4,4] + 0.97 z1[4,5] ≤ 100000\n",
       " emissions_constraint[5] : 0.86 z1[5,1] + 0.86 z1[5,2] + 2.38 z1[5,3] + 2.3 z1[5,4] + 0.97 z1[5,5] ≤ 100000\n",
       " emissions_constraint[6] : 0.86 z1[6,1] + 0.86 z1[6,2] + 2.38 z1[6,3] + 2.3 z1[6,4] + 0.97 z1[6,5] ≤ 100000\n",
       " emissions_constraint[7] : 0.86 z1[7,1] + 0.86 z1[7,2] + 2.38 z1[7,3] + 2.3 z1[7,4] + 0.97 z1[7,5] ≤ 100000\n",
       " emissions_constraint[8] : 0.86 z1[8,1] + 0.86 z1[8,2] + 2.38 z1[8,3] + 2.3 z1[8,4] + 0.97 z1[8,5] ≤ 100000\n",
       " emissions_constraint[9] : 0.86 z1[9,1] + 0.86 z1[9,2] + 2.38 z1[9,3] + 2.3 z1[9,4] + 0.97 z1[9,5] ≤ 100000\n",
       " emissions_constraint[10] : 0.86 z1[10,1] + 0.86 z1[10,2] + 2.38 z1[10,3] + 2.3 z1[10,4] + 0.97 z1[10,5] ≤ 100000\n",
       " emissions_constraint[11] : 0.86 z1[11,1] + 0.86 z1[11,2] + 2.38 z1[11,3] + 2.3 z1[11,4] + 0.97 z1[11,5] ≤ 100000\n",
       " emissions_constraint[12] : 0.86 z1[12,1] + 0.86 z1[12,2] + 2.38 z1[12,3] + 2.3 z1[12,4] + 0.97 z1[12,5] ≤ 100000\n",
       " emissions_constraint[13] : 0.86 z1[13,1] + 0.86 z1[13,2] + 2.38 z1[13,3] + 2.3 z1[13,4] + 0.97 z1[13,5] ≤ 100000\n",
       " ⋮\n",
       " emissions_constraint[25] : 0.86 z1[25,1] + 0.86 z1[25,2] + 2.38 z1[25,3] + 2.3 z1[25,4] + 0.97 z1[25,5] ≤ 100000\n",
       " emissions_constraint[26] : 0.86 z1[26,1] + 0.86 z1[26,2] + 2.38 z1[26,3] + 2.3 z1[26,4] + 0.97 z1[26,5] ≤ 100000\n",
       " emissions_constraint[27] : 0.86 z1[27,1] + 0.86 z1[27,2] + 2.38 z1[27,3] + 2.3 z1[27,4] + 0.97 z1[27,5] ≤ 100000\n",
       " emissions_constraint[28] : 0.86 z1[28,1] + 0.86 z1[28,2] + 2.38 z1[28,3] + 2.3 z1[28,4] + 0.97 z1[28,5] ≤ 100000\n",
       " emissions_constraint[29] : 0.86 z1[29,1] + 0.86 z1[29,2] + 2.38 z1[29,3] + 2.3 z1[29,4] + 0.97 z1[29,5] ≤ 100000\n",
       " emissions_constraint[30] : 0.86 z1[30,1] + 0.86 z1[30,2] + 2.38 z1[30,3] + 2.3 z1[30,4] + 0.97 z1[30,5] ≤ 100000\n",
       " emissions_constraint[31] : 0.86 z1[31,1] + 0.86 z1[31,2] + 2.38 z1[31,3] + 2.3 z1[31,4] + 0.97 z1[31,5] ≤ 100000\n",
       " emissions_constraint[32] : 0.86 z1[32,1] + 0.86 z1[32,2] + 2.38 z1[32,3] + 2.3 z1[32,4] + 0.97 z1[32,5] ≤ 100000\n",
       " emissions_constraint[33] : 0.86 z1[33,1] + 0.86 z1[33,2] + 2.38 z1[33,3] + 2.3 z1[33,4] + 0.97 z1[33,5] ≤ 100000\n",
       " emissions_constraint[34] : 0.86 z1[34,1] + 0.86 z1[34,2] + 2.38 z1[34,3] + 2.3 z1[34,4] + 0.97 z1[34,5] ≤ 100000\n",
       " emissions_constraint[35] : 0.86 z1[35,1] + 0.86 z1[35,2] + 2.38 z1[35,3] + 2.3 z1[35,4] + 0.97 z1[35,5] ≤ 100000\n",
       " emissions_constraint[36] : 0.86 z1[36,1] + 0.86 z1[36,2] + 2.38 z1[36,3] + 2.3 z1[36,4] + 0.97 z1[36,5] ≤ 100000"
      ]
     },
     "execution_count": 87,
     "metadata": {},
     "output_type": "execute_result"
    }
   ],
   "source": [
    "max_capacity = 1000000\n",
    "max_emissions = 100000\n",
    "\n",
    "model = Model(Gurobi.Optimizer)\n",
    "\n",
    "@variable(model, z1[i=1:size(X_test,1), k=n_energies]) # produced \n",
    "@variable(model, z2[i=1:size(X_test,1), k=n_energies]) # purchased \n",
    "\n",
    "#@objective(model, Min, (sum(sum(z1[i,k] * cost[i,k] for k=n_energies + z2[i,k] * sold_at[i,k]) - rf_pred_test[i] * X_test[i,:RRP] for i=1:size(X_test,1))))\n",
    "@objective(model, Min, (sum(sum(z1[i,k] * cost[k] for k=n_energies) - rf_pred_test[i] * X_test[i,:RRP] for i=1:size(X_test,1))))\n",
    "\n",
    "@constraint(model, demand_constraint[i=1:size(X_test,1)], rf_pred_test[i] <= sum(z1[i,k] + z2[i,k] for k=n_energies))\n",
    "@constraint(model, capacity_constraint[i=1:size(X_test,1)], max_capacity <= sum(z1[i,k] for k=n_energies))\n",
    "@constraint(model, emissions_constraint[i=1:size(X_test,1)], sum(z1[i,k] * emissions[k] for k=n_energies) <= max_emissions)"
   ]
  },
  {
   "cell_type": "code",
   "execution_count": 88,
   "id": "bc9c2058-e235-4198-b5df-0eca701b6b4a",
   "metadata": {},
   "outputs": [
    {
     "name": "stdout",
     "output_type": "stream",
     "text": [
      "Gurobi Optimizer version 10.0.2 build v10.0.2rc0 (mac64[x86])\n",
      "\n",
      "CPU model: Intel(R) Core(TM) i5-5350U CPU @ 1.80GHz\n",
      "Thread count: 2 physical cores, 4 logical processors, using up to 4 threads\n",
      "\n",
      "Optimize a model with 108 rows, 360 columns and 720 nonzeros\n",
      "Model fingerprint: 0xab008b63\n",
      "Coefficient statistics:\n",
      "  Matrix range     [9e-01, 2e+00]\n",
      "  Objective range  [6e+01, 1e+02]\n",
      "  Bounds range     [0e+00, 0e+00]\n",
      "  RHS range        [1e+05, 1e+06]\n",
      "Presolve removed 36 rows and 180 columns\n",
      "Presolve time: 0.01s\n",
      "\n",
      "Solved in 0 iterations and 0.01 seconds (0.00 work units)\n",
      "Infeasible or unbounded model\n",
      "\n",
      "User-callback calls 27, time in user-callback 0.01 sec\n"
     ]
    }
   ],
   "source": [
    "optimize!(model);"
   ]
  },
  {
   "cell_type": "code",
   "execution_count": 38,
   "id": "20a2fd40-1702-4fd3-b7b5-909fc8de5eef",
   "metadata": {},
   "outputs": [
    {
     "data": {
      "text/plain": [
       "36-element Vector{Float64}:\n",
       " 119645.18\n",
       " 113547.67\n",
       " 109327.46\n",
       " 114865.645\n",
       " 105534.01\n",
       "  95865.14\n",
       "  99778.2\n",
       " 112421.09\n",
       " 112140.47000000002\n",
       " 109328.33500000004\n",
       " 106643.05000000002\n",
       " 111644.60000000002\n",
       "  96225.90999999996\n",
       "      ⋮\n",
       " 126354.67999999998\n",
       " 106694.96499999998\n",
       " 101703.49\n",
       " 114651.13999999994\n",
       " 112076.46\n",
       " 113620.21000000002\n",
       " 106641.79\n",
       "  99585.83499999998\n",
       "  92277.025\n",
       "  94081.56499999996\n",
       " 113610.03000000006\n",
       " 122607.56"
      ]
     },
     "execution_count": 38,
     "metadata": {},
     "output_type": "execute_result"
    }
   ],
   "source": [
    "y_test"
   ]
  },
  {
   "cell_type": "code",
   "execution_count": null,
   "id": "94fdd9b4-9a2e-44ea-85db-c0bb9bd240c8",
   "metadata": {},
   "outputs": [],
   "source": []
  }
 ],
 "metadata": {
  "kernelspec": {
   "display_name": "Julia (IAI) 1.9.2",
   "language": "julia",
   "name": "julia-_iai_-1.9"
  },
  "language_info": {
   "file_extension": ".jl",
   "mimetype": "application/julia",
   "name": "julia",
   "version": "1.9.2"
  }
 },
 "nbformat": 4,
 "nbformat_minor": 5
}
