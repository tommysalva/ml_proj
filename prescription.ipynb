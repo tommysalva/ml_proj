{
 "cells": [
  {
   "cell_type": "markdown",
   "id": "8a191633-2d84-4b79-a6c4-c2f21e41451a",
   "metadata": {},
   "source": [
    "# Prescription"
   ]
  },
  {
   "cell_type": "code",
   "execution_count": 16,
   "id": "3f6428cc-6682-4a6e-945f-555b07d89495",
   "metadata": {},
   "outputs": [],
   "source": [
    "using CSV, DataFrames, Random, Gurobi, JuMP, Statistics, ScikitLearn"
   ]
  },
  {
   "cell_type": "code",
   "execution_count": 17,
   "id": "5ded1365-80f8-4093-9a63-c5428fb87a3a",
   "metadata": {},
   "outputs": [],
   "source": [
    "# Load the data\n",
    "df_preds = CSV.read(\"predictions.csv\", DataFrame)\n",
    "df_emissions = CSV.read(\"energy_emissions.csv\", DataFrame)\n",
    "df_capacity = CSV.read(\"emissions.csv\", DataFrame)\n",
    "df_train = CSV.read(\"demand_train.csv\", DataFrame)\n",
    "df_test = CSV.read(\"demand_test.csv\", DataFrame);"
   ]
  },
  {
   "cell_type": "code",
   "execution_count": 22,
   "id": "6f322d71-c132-4d82-8b24-0992f0195e50",
   "metadata": {},
   "outputs": [
    {
     "data": {
      "text/html": [
       "<div><div style = \"float: left;\"><span>5×16 DataFrame</span></div><div style = \"clear: both;\"></div></div><div class = \"data-frame\" style = \"overflow-x: scroll;\"><table class = \"data-frame\" style = \"margin-bottom: 6px;\"><thead><tr class = \"header\"><th class = \"rowNumber\" style = \"font-weight: bold; text-align: right;\">Row</th><th style = \"text-align: left;\">RRP</th><th style = \"text-align: left;\">demand_pos_RRP</th><th style = \"text-align: left;\">RRP_positive</th><th style = \"text-align: left;\">demand_neg_RRP</th><th style = \"text-align: left;\">RRP_negative</th><th style = \"text-align: left;\">frac_at_neg_RRP</th><th style = \"text-align: left;\">min_temperature</th><th style = \"text-align: left;\">max_temperature</th><th style = \"text-align: left;\">solar_exposure</th><th style = \"text-align: left;\">rainfall</th><th style = \"text-align: left;\">school_day_N</th><th style = \"text-align: left;\">school_day_Y</th><th style = \"text-align: left;\">holiday_N</th><th style = \"text-align: left;\">holiday_Y</th><th style = \"text-align: left;\">weekend_0</th><th style = \"text-align: left;\">weekend_1</th></tr><tr class = \"subheader headerLastRow\"><th class = \"rowNumber\" style = \"font-weight: bold; text-align: right;\"></th><th title = \"Float64\" style = \"text-align: left;\">Float64</th><th title = \"Float64\" style = \"text-align: left;\">Float64</th><th title = \"Float64\" style = \"text-align: left;\">Float64</th><th title = \"Float64\" style = \"text-align: left;\">Float64</th><th title = \"Float64\" style = \"text-align: left;\">Float64</th><th title = \"Float64\" style = \"text-align: left;\">Float64</th><th title = \"Float64\" style = \"text-align: left;\">Float64</th><th title = \"Float64\" style = \"text-align: left;\">Float64</th><th title = \"Float64\" style = \"text-align: left;\">Float64</th><th title = \"Float64\" style = \"text-align: left;\">Float64</th><th title = \"Bool\" style = \"text-align: left;\">Bool</th><th title = \"Bool\" style = \"text-align: left;\">Bool</th><th title = \"Bool\" style = \"text-align: left;\">Bool</th><th title = \"Bool\" style = \"text-align: left;\">Bool</th><th title = \"Bool\" style = \"text-align: left;\">Bool</th><th title = \"Bool\" style = \"text-align: left;\">Bool</th></tr></thead><tbody><tr><td class = \"rowNumber\" style = \"font-weight: bold; text-align: right;\">1</td><td style = \"text-align: right;\">47.3506</td><td style = \"text-align: right;\">1.07629e5</td><td style = \"text-align: right;\">47.3506</td><td style = \"text-align: right;\">0.0</td><td style = \"text-align: right;\">0.0</td><td style = \"text-align: right;\">0.0</td><td style = \"text-align: right;\">11.4</td><td style = \"text-align: right;\">16.4</td><td style = \"text-align: right;\">22.2</td><td style = \"text-align: right;\">2.0</td><td style = \"text-align: right;\">false</td><td style = \"text-align: right;\">true</td><td style = \"text-align: right;\">true</td><td style = \"text-align: right;\">false</td><td style = \"text-align: right;\">true</td><td style = \"text-align: right;\">false</td></tr><tr><td class = \"rowNumber\" style = \"font-weight: bold; text-align: right;\">2</td><td style = \"text-align: right;\">59.0447</td><td style = \"text-align: right;\">1.08418e5</td><td style = \"text-align: right;\">59.0447</td><td style = \"text-align: right;\">0.0</td><td style = \"text-align: right;\">0.0</td><td style = \"text-align: right;\">0.0</td><td style = \"text-align: right;\">8.6</td><td style = \"text-align: right;\">24.8</td><td style = \"text-align: right;\">31.0</td><td style = \"text-align: right;\">0.0</td><td style = \"text-align: right;\">false</td><td style = \"text-align: right;\">true</td><td style = \"text-align: right;\">true</td><td style = \"text-align: right;\">false</td><td style = \"text-align: right;\">true</td><td style = \"text-align: right;\">false</td></tr><tr><td class = \"rowNumber\" style = \"font-weight: bold; text-align: right;\">3</td><td style = \"text-align: right;\">70.2026</td><td style = \"text-align: right;\">1.12736e5</td><td style = \"text-align: right;\">70.2026</td><td style = \"text-align: right;\">0.0</td><td style = \"text-align: right;\">0.0</td><td style = \"text-align: right;\">0.0</td><td style = \"text-align: right;\">11.4</td><td style = \"text-align: right;\">21.1</td><td style = \"text-align: right;\">30.7</td><td style = \"text-align: right;\">0.0</td><td style = \"text-align: right;\">false</td><td style = \"text-align: right;\">true</td><td style = \"text-align: right;\">true</td><td style = \"text-align: right;\">false</td><td style = \"text-align: right;\">true</td><td style = \"text-align: right;\">false</td></tr><tr><td class = \"rowNumber\" style = \"font-weight: bold; text-align: right;\">4</td><td style = \"text-align: right;\">79.6057</td><td style = \"text-align: right;\">1.148e5</td><td style = \"text-align: right;\">79.6057</td><td style = \"text-align: right;\">0.0</td><td style = \"text-align: right;\">0.0</td><td style = \"text-align: right;\">0.0</td><td style = \"text-align: right;\">11.9</td><td style = \"text-align: right;\">19.7</td><td style = \"text-align: right;\">21.9</td><td style = \"text-align: right;\">0.0</td><td style = \"text-align: right;\">false</td><td style = \"text-align: right;\">true</td><td style = \"text-align: right;\">true</td><td style = \"text-align: right;\">false</td><td style = \"text-align: right;\">true</td><td style = \"text-align: right;\">false</td></tr><tr><td class = \"rowNumber\" style = \"font-weight: bold; text-align: right;\">5</td><td style = \"text-align: right;\">51.0587</td><td style = \"text-align: right;\">93762.8</td><td style = \"text-align: right;\">55.6113</td><td style = \"text-align: right;\">5196.73</td><td style = \"text-align: right;\">-31.0821</td><td style = \"text-align: right;\">0.0625</td><td style = \"text-align: right;\">10.3</td><td style = \"text-align: right;\">18.4</td><td style = \"text-align: right;\">26.7</td><td style = \"text-align: right;\">8.0</td><td style = \"text-align: right;\">false</td><td style = \"text-align: right;\">true</td><td style = \"text-align: right;\">true</td><td style = \"text-align: right;\">false</td><td style = \"text-align: right;\">false</td><td style = \"text-align: right;\">true</td></tr></tbody></table></div>"
      ],
      "text/latex": [
       "\\begin{tabular}{r|ccccccc}\n",
       "\t& RRP & demand\\_pos\\_RRP & RRP\\_positive & demand\\_neg\\_RRP & RRP\\_negative & frac\\_at\\_neg\\_RRP & \\\\\n",
       "\t\\hline\n",
       "\t& Float64 & Float64 & Float64 & Float64 & Float64 & Float64 & \\\\\n",
       "\t\\hline\n",
       "\t1 & 47.3506 & 1.07629e5 & 47.3506 & 0.0 & 0.0 & 0.0 & $\\dots$ \\\\\n",
       "\t2 & 59.0447 & 1.08418e5 & 59.0447 & 0.0 & 0.0 & 0.0 & $\\dots$ \\\\\n",
       "\t3 & 70.2026 & 1.12736e5 & 70.2026 & 0.0 & 0.0 & 0.0 & $\\dots$ \\\\\n",
       "\t4 & 79.6057 & 1.148e5 & 79.6057 & 0.0 & 0.0 & 0.0 & $\\dots$ \\\\\n",
       "\t5 & 51.0587 & 93762.8 & 55.6113 & 5196.73 & -31.0821 & 0.0625 & $\\dots$ \\\\\n",
       "\\end{tabular}\n"
      ],
      "text/plain": [
       "\u001b[1m5×16 DataFrame\n",
       "\u001b[1m Row │\u001b[1m RRP     \u001b[1m demand_pos_RRP \u001b[1m RRP_positive \u001b[1m demand_neg_RRP \u001b[1m RRP_negative \u001b[1m fr ⋯\n",
       "     │\u001b[90m Float64 \u001b[90m Float64        \u001b[90m Float64      \u001b[90m Float64        \u001b[90m Float64      \u001b[90m Fl ⋯\n",
       "─────┼──────────────────────────────────────────────────────────────────────────\n",
       "   1 │ 47.3506       1.07629e5       47.3506            0.0         0.0        ⋯\n",
       "   2 │ 59.0447       1.08418e5       59.0447            0.0         0.0\n",
       "   3 │ 70.2026       1.12736e5       70.2026            0.0         0.0\n",
       "   4 │ 79.6057       1.148e5         79.6057            0.0         0.0\n",
       "   5 │ 51.0587   93762.8             55.6113         5196.73      -31.0821     ⋯\n",
       "\u001b[36m                                                              11 columns omitted"
      ]
     },
     "execution_count": 22,
     "metadata": {},
     "output_type": "execute_result"
    }
   ],
   "source": [
    "# Create X and y\n",
    "X_test = select(df_test, Not([:Column1, :date, :demand]))\n",
    "y_test = select(df_test, :demand)\n",
    "first(X_test, 5)"
   ]
  },
  {
   "cell_type": "code",
   "execution_count": 32,
   "id": "55717ecc-bf7f-4d3e-8196-a88541ca8361",
   "metadata": {},
   "outputs": [],
   "source": [
    "# Define iterators\n",
    "T = size(X_test, 1)\n",
    "I = size(df_capacity, 1);"
   ]
  },
  {
   "cell_type": "markdown",
   "id": "c96898f7-1931-4e54-bcbc-939dcd0fa8f2",
   "metadata": {},
   "source": [
    "## Method 1 - SAA"
   ]
  }
 ],
 "metadata": {
  "kernelspec": {
   "display_name": "Julia (IAI) 1.9.2",
   "language": "julia",
   "name": "julia-_iai_-1.9"
  },
  "language_info": {
   "file_extension": ".jl",
   "mimetype": "application/julia",
   "name": "julia",
   "version": "1.9.2"
  }
 },
 "nbformat": 4,
 "nbformat_minor": 5
}
